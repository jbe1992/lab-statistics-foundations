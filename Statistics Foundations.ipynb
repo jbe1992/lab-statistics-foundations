{
 "cells": [
  {
   "cell_type": "markdown",
   "metadata": {},
   "source": [
    "# Challenge 1"
   ]
  },
  {
   "cell_type": "markdown",
   "metadata": {},
   "source": [
    "Ω = {(1,2),(1,1),...}"
   ]
  },
  {
   "cell_type": "markdown",
   "metadata": {},
   "source": [
    "challenge a: X: {6, 6}"
   ]
  },
  {
   "cell_type": "markdown",
   "metadata": {},
   "source": [
    "challenge b: X: {even, even}, {odd, odd}"
   ]
  },
  {
   "cell_type": "markdown",
   "metadata": {},
   "source": [
    "challenge c: X {3,4} max = 4"
   ]
  },
  {
   "cell_type": "markdown",
   "metadata": {},
   "source": [
    "# Challenge 2"
   ]
  },
  {
   "cell_type": "markdown",
   "metadata": {},
   "source": [
    "Ω = {1, 2, 3, 4, 5, 6, 7, 8, 9, 10, J, Q, K, A} for each suit (52 cards total)"
   ]
  },
  {
   "cell_type": "markdown",
   "metadata": {},
   "source": [
    "challenge a: X: {J,J}, {J,Q}, {J,K}, {J,A}, {Q,J}, {Q,Q}, {Q,K}, {Q,A}, {K,J}, {K,Q}, {K,K}, {K,A}, {A,J}, {A,Q}, {A,K}, {A,A} each suit"
   ]
  },
  {
   "cell_type": "markdown",
   "metadata": {},
   "source": [
    "challenge b: X: {{JQK10},7}, {A,2}, {9,8} each suit"
   ]
  },
  {
   "cell_type": "markdown",
   "metadata": {},
   "source": [
    "challenge c: Ω = {2,3,4,5,6,7} hearth and {2,3,4,5,6,7} spades. X = {x,y}"
   ]
  },
  {
   "cell_type": "markdown",
   "metadata": {},
   "source": [
    "# Challenge 3"
   ]
  },
  {
   "cell_type": "markdown",
   "metadata": {},
   "source": [
    "Ω = {(1,2),(1,1)...}"
   ]
  },
  {
   "cell_type": "markdown",
   "metadata": {},
   "source": [
    "case A: X: {2,1}, {2,2}, {2,3}, {2,4}, {2,5}, {2,6}"
   ]
  },
  {
   "cell_type": "markdown",
   "metadata": {},
   "source": [
    "case B: X: {2,2}"
   ]
  },
  {
   "cell_type": "markdown",
   "metadata": {},
   "source": [
    "case C: Player A wins 15 coins. X: {2,1}, {3,1}, {4,1}, {5,1}, {6,1}, {3,2}, {4,2}, {5,2}, {6,2}, {4,3}, {5,3}, {6,3}, {5,4}, {6,4}, {6,5}"
   ]
  },
  {
   "cell_type": "markdown",
   "metadata": {},
   "source": [
    "case D: Win + 4 coins: X: {5,1}, {6,1}, {6,2}. Loss + 2 coins: {1,3}, {1,4}, {1,5}, {1,6}, {2,4}, {2,5}, {2,6}, {3,5}, {3,6}, {4,6}. No one loses: {1,1}, {2,2}, {3,3}, {4,4}, {5,5}, {6,6}"
   ]
  },
  {
   "cell_type": "markdown",
   "metadata": {},
   "source": [
    "# Challenge 4"
   ]
  },
  {
   "cell_type": "markdown",
   "metadata": {},
   "source": [
    "Ω = {1, 2, 3, 4} -> 1 = Red, 2 = Blue, 3 = Green, 4 = Black"
   ]
  },
  {
   "cell_type": "markdown",
   "metadata": {},
   "source": [
    "Case A: Player A: {3, 3, 3} Player B: {4} Player C: {3,1}"
   ]
  },
  {
   "cell_type": "markdown",
   "metadata": {},
   "source": [
    "Case B: Player A: {3,3,1} Player B: {3,2,3} Player C: {1}"
   ]
  },
  {
   "cell_type": "markdown",
   "metadata": {},
   "source": [
    "Case C: Player A: {3,2,4} Player B: {2,2,2} Player C: {1}"
   ]
  },
  {
   "cell_type": "markdown",
   "metadata": {},
   "source": [
    "# Challenge 5"
   ]
  },
  {
   "cell_type": "markdown",
   "metadata": {},
   "source": [
    "We should add 1 more structure with random variables in each case."
   ]
  },
  {
   "cell_type": "markdown",
   "metadata": {},
   "source": [
    "# Challenge 6"
   ]
  },
  {
   "cell_type": "markdown",
   "metadata": {},
   "source": [
    "Ω = {0, 0, 1, 1, 1) -> 0 = black ball, 1 = white ball"
   ]
  },
  {
   "cell_type": "markdown",
   "metadata": {},
   "source": [
    "Case A: Ω = {0,0}, {1,0}, {1,1}"
   ]
  },
  {
   "cell_type": "markdown",
   "metadata": {},
   "source": [
    "Case B: Ω = {0, 0, 1, 1, 1) "
   ]
  },
  {
   "cell_type": "markdown",
   "metadata": {},
   "source": [
    "Case C: Ω = {1,1},{0,1},{0,0}"
   ]
  },
  {
   "cell_type": "markdown",
   "metadata": {},
   "source": [
    "Case D: Ω = {0, 0, 1, 1, 1)"
   ]
  }
 ],
 "metadata": {
  "kernelspec": {
   "display_name": "Python 3",
   "language": "python",
   "name": "python3"
  },
  "language_info": {
   "codemirror_mode": {
    "name": "ipython",
    "version": 3
   },
   "file_extension": ".py",
   "mimetype": "text/x-python",
   "name": "python",
   "nbconvert_exporter": "python",
   "pygments_lexer": "ipython3",
   "version": "3.7.2"
  }
 },
 "nbformat": 4,
 "nbformat_minor": 2
}
